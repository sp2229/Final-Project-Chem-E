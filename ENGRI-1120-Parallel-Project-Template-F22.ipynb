{
 "cells": [
  {
   "cell_type": "markdown",
   "id": "23e6742b-9c1b-473a-af2e-40ba90ff883f",
   "metadata": {},
   "source": [
    "# ENGRI 1120: Parallel Cell-free Production and Recovery of the mRNA BNT-162b2 Vaccine"
   ]
  },
  {
   "cell_type": "markdown",
   "id": "dbfbf87e-4766-4f57-884f-4f57c390cd3e",
   "metadata": {},
   "source": [
    "Julia Arnold (jca243), Madeline Ortiz (mio6), Sofia Patterson-Melendrez (sp2229), Audrey Struzyk (aps 283)"
   ]
  },
  {
   "cell_type": "markdown",
   "id": "8c8fcd4e-0156-46f8-b118-80f3032719d4",
   "metadata": {},
   "source": [
    "<img src=\"figs/Fig-Parallel-System.png\" style=\"width:50%\">"
   ]
  },
  {
   "cell_type": "markdown",
   "id": "e2d1b90e-e590-4489-a136-16c74f81ccc5",
   "metadata": {},
   "source": [
    "## Introduction\n",
    "The project introduction goes here. Typically 2-3 paragraphs.\n",
    "\n",
    "__Suggestions__:\n",
    "* Paragraph 1: Describe the motivation and background information on the product and the vaccine \n",
    "* Paragraph 2/3: Summary of your project. Describe the number of units (don't forget the heat exchangers), details about the units’ operation, and your project’s financials. \n",
    "\n",
    "You can replace the figure above with your system."
   ]
  },
  {
   "cell_type": "markdown",
   "id": "76c3d9a2-9965-4c36-90bd-392230585eca",
   "metadata": {
    "tags": []
   },
   "source": [
    "## Materials and Methods"
   ]
  },
  {
   "cell_type": "markdown",
   "id": "c992adca-0680-42cc-89d5-74b8d9c659b6",
   "metadata": {
    "tags": []
   },
   "source": [
    "### Project Setup"
   ]
  },
  {
   "cell_type": "code",
   "execution_count": null,
   "id": "9087f9c8-fc35-4c16-9e4d-bd1ac8f71a2f",
   "metadata": {},
   "outputs": [],
   "source": [
    "import Pkg; Pkg.activate(\".\"); Pkg.resolve(); Pkg.instantiate();\n"
   ]
  },
  {
   "cell_type": "code",
   "execution_count": null,
   "id": "8b6f5e95-6b27-4294-82a1-0d36c8043946",
   "metadata": {},
   "outputs": [],
   "source": [
    "# load reqd packages and set paths -\n",
    "using JLD2\n",
    "using FileIO\n",
    "using PrettyTables\n",
    "using DataFrames\n",
    "using GLPK\n",
    "\n",
    "# setup paths -\n",
    "const _ROOT = pwd();\n",
    "const _PATH_TO_DATA = joinpath(_ROOT, \"data\");\n",
    "\n"
   ]
  },
  {
   "cell_type": "markdown",
   "id": "d92ba20b-7096-4cb5-9dcf-4375a8abc3b5",
   "metadata": {},
   "source": [
    "#### Load the project code library\n",
    "The call to the `include` function loads the `ENGRI-1120-Project-CodeLib.jl` library into the notebook; the library contains functions we can use during the project. In particular, it includes the function:\n",
    "\n",
    "* The `compute_optimal_extent(stoichiometric_matrix::Array{Float64,2}, default_bounds_array::Array{Float64,2},\n",
    "    species_bounds_array::Array{Float64,2}, objective_coefficient_array::Array{Float64,1}; min_flag::Bool = true) -> Tuple` function calls the [GLPK](https://www.gnu.org/software/glpk/) linear program solver. The `results` tuple contains several things, but the important ones are `calculated_flux_array`, `objective_value`, and the status/exit flags `status_flag` and `exit_flag` (which let us know if the solver successfully found a solution).\n",
    "* The `build(model::Type{MSULatticeModel}; ṅₒ::Float64, L::Int64, u::Float64, d::Float64) -> MSULatticeModel` function builds a [Binary tree](https://en.wikipedia.org/wiki/Binary_tree) of Magical Separation Units (MSUs). Arguments: $ṅₒ$ denotes the species mole flow rate into the separation system, $L$ denotes the number of layers of the tree, $u$ denotes the `up` factor (split for the `up` path), and $d$ denotes the `down` factor (the split for the `down` path). This function returns the `MSULatticeModel` model, which contains the column array `data` holding the species mole flow rate for each node in the tree. \n",
    "* The `build_nodes_dictionary(levels::Int64) -> Dict{Int64,Array{Int64,1}}` function constructs a dictionary of node indexes for each level of the tree; keys are the tree levels."
   ]
  },
  {
   "cell_type": "code",
   "execution_count": null,
   "id": "643bb3f5-8a44-4d10-8aaf-bac7c94ec962",
   "metadata": {},
   "outputs": [],
   "source": [
    "include(\"ENGRI-1120-Project-CodeLib.jl\");"
   ]
  },
  {
   "cell_type": "code",
   "execution_count": null,
   "id": "a3090808-15ee-44ba-ac55-2097a7a9f9c5",
   "metadata": {},
   "outputs": [],
   "source": [
    "# load the model file -\n",
    "model = load(joinpath(_PATH_TO_DATA, \"ENGRI-1120-BNT162b2-Model.jld2\"))[\"model\"]"
   ]
  },
  {
   "cell_type": "code",
   "execution_count": null,
   "id": "a5dcb1bf-32c2-449c-ae06-a55f44ec0994",
   "metadata": {},
   "outputs": [],
   "source": [
    "# get stuff from the model data structure -\n",
    "S = model[\"stochiometric_matrix\"]; # fix the spelling in the model file\n",
    "flux_bounds_array = model[\"flux_bounds_array\"];\n",
    "list_of_species = model[\"list_of_species\"];\n",
    "list_of_reactions = model[\"list_of_reactions\"];\n",
    "reaction_table = model[\"reaction_table\"];\n",
    "gene_sequence = model[\"gene_sequence\"];"
   ]
  },
  {
   "cell_type": "code",
   "execution_count": null,
   "id": "55db9867-ef5f-415f-908a-4f8be8338f4b",
   "metadata": {},
   "outputs": [],
   "source": [
    "reaction_table"
   ]
  },
  {
   "cell_type": "code",
   "execution_count": null,
   "id": "117417d4-2690-4a3a-8be5-5404e313fc56",
   "metadata": {},
   "outputs": [],
   "source": [
    "# How many species and reactions?\n",
    "(ℳ, ℛ) = size(S);"
   ]
  },
  {
   "cell_type": "code",
   "execution_count": null,
   "id": "8208533f-04f4-4039-8a7b-44be76fce2d0",
   "metadata": {
    "jupyter": {
     "source_hidden": true
    },
    "tags": []
   },
   "outputs": [],
   "source": [
    "# initialize -\n",
    "species_index_table_data = Array{Any,2}(undef, ℳ, 2);\n",
    "\n",
    "# build table -\n",
    "for i ∈ 1:ℳ\n",
    "    species_index_table_data[i,1] = i;\n",
    "    species_index_table_data[i,2] = list_of_species[i];\n",
    "end\n",
    "\n",
    "# setup header -\n",
    "species_index_header_table = ([\"Index\", \"Species\"]);\n",
    "\n",
    "# build table -\n",
    "pretty_table(species_index_table_data; header=species_index_header_table);"
   ]
  },
  {
   "cell_type": "markdown",
   "id": "8f4b9bca-9d21-4f12-88fc-9eec06661610",
   "metadata": {
    "tags": []
   },
   "source": [
    "#### Setup the constants, feed rates and compositions"
   ]
  },
  {
   "cell_type": "code",
   "execution_count": null,
   "id": "edb099ea-ee49-4e00-ad7c-9a9b2458a706",
   "metadata": {},
   "outputs": [],
   "source": [
    "# how many chips in parallel?\n",
    "number_of_chips = 22;\n",
    "\n",
    "# what fraction of the mRNA degrades?\n",
    "δ = 0.20;\n",
    "\n",
    "# MSU split ratio -\n",
    "θ = 0.99;\n",
    "\n",
    "# Setup constants for transcription -\n",
    "L = length(gene_sequence);\n",
    "K = 0.116; # saturation constant units: μmol/L; Source: ACS Synth. Biol. 2018, 7, 8, 1844–1857 https://doi.org/10.1021/acssynbio.7b00465\n",
    "v̇ₜ = (90.0)*(60); # units: nt/s; Source: BIND: 111871\n",
    "u = 0.95; # u-factor; Source: ACS Synth. Biol. 2018, 7, 8, 1844–1857 https://doi.org/10.1021/acssynbio.7b00465\n",
    "\n",
    "# volume -\n",
    "V = 100.0*(1/1e6); # liquid reaction volume on each chip units: L\n",
    "\n",
    "# Stock solution 1: DNA -> feed into splitter (mux) by pump 1\n",
    "# Composition of the DNA source solution (flows into the chip in stream/channel 1)\n",
    "G_BNT_162b2 = 250.0;     # gene concentration in stock solution units: μmol/L\n",
    "\n",
    "# Stock solution 2: PURExpress -> feed into splitter (mux) by pump 2\n",
    "# Composition of PURExpress (flows into the chip in stream/channel 2)\n",
    "T7RNAP = 100.0;          # concentration in PURExpress units: μmol/L\n",
    "M_atp_c = 100*(1e6/1e3); # concentration in PURExpress units: μmol/L\n",
    "M_utp_c = 100*(1e6/1e3); # concentration in PURExpress units: μmol/L\n",
    "M_ctp_c = 100*(1e6/1e3); # concentration in PURExpress units: μmol/L\n",
    "M_gtp_c = 100*(1e6/1e3); # concentration in PURExpress units: μmol/L\n",
    "\n",
    "# Volumetric flow rates from the pump *into* the splitter unit - our base case will 1 ml/min into the chips, thus, we need\n",
    "# to scale by the number of chips\n",
    "V̇₁ = number_of_chips*1000.0*(1/1e6); # volumetric flow rate of syringe pump 1 (this goes into splitter 1) units: L/min\n",
    "V̇₂ = number_of_chips*1000.0*(1/1e6); # volumetric flow rate of syringe pump 2 (this goes into splitter 2) units: L/min\n",
    "\n",
    "# stuff needed for later -\n",
    "F̂₁ = V̇₁/(V̇₁+V̇₂); # do not change me\n",
    "F̂₂ = V̇₂/(V̇₁+V̇₂); # do not change me\n",
    "\n",
    "# stuff for the tables -\n",
    "current_table_counter = 0; # do not change me"
   ]
  },
  {
   "cell_type": "markdown",
   "id": "d6eba82f-57dd-47ca-a04e-42ca3e2f5dff",
   "metadata": {
    "tags": []
   },
   "source": [
    "#### Specify the inputs streams"
   ]
  },
  {
   "cell_type": "markdown",
   "id": "779f9f8b-1a29-4fa6-8d65-6f0913563ced",
   "metadata": {},
   "source": [
    "##### a) Specify the composition of feed stream 1\n",
    "By default, this stream contains only the gene encoding the mRNA BNT-162b2 product. The mainstream is split into sub-streams that are fed into each chip."
   ]
  },
  {
   "cell_type": "code",
   "execution_count": null,
   "id": "3f5f3c3d-f73f-4449-87a2-1c0b365a5539",
   "metadata": {},
   "outputs": [],
   "source": [
    "# setup feed compostions for feed stream 1\n",
    "ṅ₁ = zeros(ℳ); # default is zero, correct specific values -\n",
    "ṅ₁[1] = G_BNT_162b2*V̇₁*(1/number_of_chips); # units: μmol/min"
   ]
  },
  {
   "cell_type": "markdown",
   "id": "bf0ded76-4123-4232-9324-6a3528923c74",
   "metadata": {},
   "source": [
    "##### b) Specify the composition of feed stream 2\n",
    "By default, feed stream 2 contains the [PURExpress](https://www.neb.com/products/e6800-purexpress-invitro-protein-synthesis-kit#Product%20Information), which has everything we need to make our mRNA product of interest _expect_ the linear DNA. The mainstream is split into sub-streams that are fed into each chip."
   ]
  },
  {
   "cell_type": "code",
   "execution_count": null,
   "id": "816f2506-48bd-4fae-9396-2e6ea91e085e",
   "metadata": {},
   "outputs": [],
   "source": [
    "# setup feed compostions for feed stream 2\n",
    "ṅ₂ = zeros(ℳ); # default is zero, then correct specific values -\n",
    "ṅ₂[2] = T7RNAP*V̇₂*(1/number_of_chips);  # units: μmol/min\n",
    "ṅ₂[3] = M_atp_c*V̇₂*(1/number_of_chips); # units: μmol/min\n",
    "ṅ₂[4] = M_utp_c*V̇₂*(1/number_of_chips); # units: μmol/min\n",
    "ṅ₂[5] = M_ctp_c*V̇₂*(1/number_of_chips); # units: μmol/min\n",
    "ṅ₂[6] = M_gtp_c*V̇₂*(1/number_of_chips); # units: μmol/min"
   ]
  },
  {
   "cell_type": "markdown",
   "id": "eb2540d8-a0b2-467b-94ed-20df1bbc0e57",
   "metadata": {
    "tags": []
   },
   "source": [
    "### Flux balance analysis setup\n",
    "* Describe the flux balance analysis method. \n",
    "* How did your group update the default species and flux bounds to model ths process?\n",
    "* What objective function did you choose?"
   ]
  },
  {
   "cell_type": "markdown",
   "id": "a7669082-24c8-4652-acab-31f08d82b207",
   "metadata": {},
   "source": [
    "#### Species bounds"
   ]
  },
  {
   "cell_type": "code",
   "execution_count": null,
   "id": "954766fb-ec77-48c6-9ed1-3bf4361ef02a",
   "metadata": {},
   "outputs": [],
   "source": [
    "# species bounds array -\n",
    "species_bounds_array = [-(ṅ₁ .+ ṅ₂) 10000.0*ones(ℳ,1)];"
   ]
  },
  {
   "cell_type": "markdown",
   "id": "ed34a6d3-ff56-4651-81d5-5a57d581fa03",
   "metadata": {},
   "source": [
    "#### Reaction bounds"
   ]
  },
  {
   "cell_type": "code",
   "execution_count": null,
   "id": "b8d99481-c895-48c7-901e-9857415df738",
   "metadata": {},
   "outputs": [],
   "source": [
    "# initialize -\n",
    "flux_bounds_array = zeros(ℛ,2);\n",
    "flux_bounds_array[:,2] .= 1000.0; # large default upper bound\n",
    "\n",
    "# Get the RNAP and GENE concentration -\n",
    "Rₜ = T7RNAP*F̂₂;        # effective RNAP concentratation on the chip for the bounds units: μmol/L\n",
    "GENE = G_BNT_162b2*F̂₁ # effective GENE concentratation on the chip for the bounds units: μmol/L\n",
    "\n",
    "# Setup bounds for transcription -\n",
    "flux_bounds_array[3,:] .= Rₜ*(v̇ₜ/L)*u*(GENE/(K+GENE))*V; # equality constraint\n",
    "\n",
    "# Setup bound for degradation (lower bound)\n",
    "flux_bounds_array[4,1] = δ*flux_bounds_array[3,1];"
   ]
  },
  {
   "cell_type": "code",
   "execution_count": null,
   "id": "818f4ec9-d726-4165-b2ec-0d813dbf2b87",
   "metadata": {
    "jupyter": {
     "source_hidden": true
    },
    "tags": []
   },
   "outputs": [],
   "source": [
    "# initialize -\n",
    "reaction_index_table_data = Array{Any,2}(undef, ℛ, 4);\n",
    "\n",
    "# build table -\n",
    "for i ∈ 1:ℛ\n",
    "    reaction_index_table_data[i,1] = i;\n",
    "    reaction_index_table_data[i,2] = list_of_reactions[i];\n",
    "    reaction_index_table_data[i,3] = flux_bounds_array[i,1];\n",
    "    reaction_index_table_data[i,4] = flux_bounds_array[i,2];\n",
    "end\n",
    "\n",
    "# setup title string -\n",
    "reaction_table_title = \"Table $(current_table_counter+=1): Reaction index-name mapping table.\"\n",
    "\n",
    "# setup header -\n",
    "reaction_index_header_table = ([\"Index\", \"Reaction\", \"lower bound\", \"upper bound\"], [\"\", \"\", \"μmol/min\", \"μmol/min\"]);\n",
    "\n",
    "# build table -\n",
    "pretty_table(reaction_index_table_data, title=reaction_table_title; header=reaction_index_header_table);"
   ]
  },
  {
   "cell_type": "markdown",
   "id": "f966f46c-43ff-4476-ba47-341f0ebc3012",
   "metadata": {},
   "source": [
    "#### Objective coefficient array\n",
    "* What is the objective you used?"
   ]
  },
  {
   "cell_type": "code",
   "execution_count": null,
   "id": "0bb000a0-1e21-4a67-ba7b-04e67221fbb3",
   "metadata": {},
   "outputs": [],
   "source": [
    "# setup the objective coefficient array -\n",
    "obj_vector = zeros(ℛ);\n",
    "obj_vector[3] = -1; # why negative?"
   ]
  },
  {
   "cell_type": "markdown",
   "id": "4faa535b-6df1-4931-b033-0d4e0a165d90",
   "metadata": {
    "tags": []
   },
   "source": [
    "## Results and Discussion "
   ]
  },
  {
   "cell_type": "markdown",
   "id": "d7d1ae72-a727-496a-a2c7-c54fd9c0f1b2",
   "metadata": {},
   "source": [
    "### Compute the optimal extent of reaction and exit stream composition per chip"
   ]
  },
  {
   "cell_type": "code",
   "execution_count": null,
   "id": "76ee9bc7-4724-40b8-9685-90363ac19e0f",
   "metadata": {
    "jupyter": {
     "source_hidden": true
    },
    "tags": []
   },
   "outputs": [],
   "source": [
    "# compute the optimal flux, and then estimate the output on the chip\n",
    "result = compute_optimal_extent(S, flux_bounds_array, species_bounds_array, obj_vector);\n",
    "\n",
    "# build a system stream table -\n",
    "ϵ̇ = result.calculated_flux_array;\n",
    "\n",
    "# compute the output -\n",
    "ṅ₃ = (ṅ₁ + ṅ₂) + S*ϵ̇;\n",
    "\n",
    "# compute the Δ reaction -\n",
    "Δ = S*ϵ̇;\n",
    "\n",
    "# get the exit and status flags to make sure all is ok\n",
    "exit_flag = result.exit_flag;\n",
    "status_flag = result.status_flag;"
   ]
  },
  {
   "cell_type": "code",
   "execution_count": null,
   "id": "aae47456-162f-462b-b7ec-3f264789c815",
   "metadata": {
    "jupyter": {
     "source_hidden": true
    },
    "tags": []
   },
   "outputs": [],
   "source": [
    "system_flux_table_data = Array{Any,2}(undef, ℳ, 6);\n",
    "\n",
    "# populate the table -\n",
    "for i ∈ 1:ℳ\n",
    "    system_flux_table_data[i,1] = list_of_species[i];\n",
    "    system_flux_table_data[i,2] = i;\n",
    "    system_flux_table_data[i,3] = ṅ₁[i];\n",
    "    system_flux_table_data[i,4] = ṅ₂[i];\n",
    "    system_flux_table_data[i,5] = round(ṅ₃[i], digits=3);\n",
    "    system_flux_table_data[i,6] = round(Δ[i], digits=3);\n",
    "end\n",
    "\n",
    "# title -\n",
    "species_mft_table_title = \"Table $(current_table_counter+=1): Single chip species mole flow rates table; Streams 1 and 2 are inputs, stream 3 is the chip output. \n",
    "The solver returned the exit flag = $(exit_flag) and status_flag = $(status_flag)\"\n",
    "\n",
    "# header -\n",
    "state_table_header = (\n",
    "    [\"Species\", \"index i\", \"ṅ₁,ᵢ\", \"ṅ₂,ᵢ\", \"ṅ₃,ᵢ\", \"Δ\"], \n",
    "    [\"\",\"\",\"(μmol/min)\", \"(μmol/min)\", \"(μmol/min)\", \"(μmol/min)\"]\n",
    ");\n",
    "\n",
    "# show -\n",
    "pretty_table(system_flux_table_data, title=species_mft_table_title; header = state_table_header)"
   ]
  },
  {
   "cell_type": "markdown",
   "id": "e87e7984-92b8-426d-a0b0-56126f75bc1c",
   "metadata": {},
   "source": [
    "### Design a downstream seperation using Magical Seperator Units (MSU)"
   ]
  },
  {
   "cell_type": "code",
   "execution_count": null,
   "id": "182cd067-ea09-464b-8aed-2f560622864a",
   "metadata": {},
   "outputs": [],
   "source": [
    "# build a downstream seperation process with this number of levels:\n",
    "number_of_levels = 6; # includes zero"
   ]
  },
  {
   "cell_type": "code",
   "execution_count": null,
   "id": "f5456b44-0f35-4d9f-b0df-85afc56ecc74",
   "metadata": {
    "jupyter": {
     "source_hidden": true
    },
    "tags": []
   },
   "outputs": [],
   "source": [
    "# initialize -\n",
    "tmp_storage_dict = Dict{Int64, MSULatticeModel}();\n",
    "\n",
    "# is_product_vector -\n",
    "is_product_vector = zeros(ℳ);\n",
    "is_product_vector[7] = 1;\n",
    "\n",
    "# compute the composition array -\n",
    "for i ∈ 1:ℳ\n",
    "\n",
    "    if (is_product_vector[i] == 1)\n",
    "        msu_lattice_model = build(MSULatticeModel; ṅₒ = (number_of_chips)*ṅ₃[i], L = number_of_levels , u = θ, d = (1 - θ));\n",
    "    else\n",
    "        msu_lattice_model = build(MSULatticeModel; ṅₒ = (number_of_chips)*ṅ₃[i], L = number_of_levels , u = (1 - θ), d = θ);\n",
    "    end\n",
    "    \n",
    "    # grab -\n",
    "    tmp_storage_dict[i] = msu_lattice_model;\n",
    "end\n",
    "\n",
    "# grab the leaves -\n",
    "nodes_dict = build_nodes_dictionary(number_of_levels);\n",
    "children_dict = build_children_dictionary(nodes_dict);\n",
    "tree_leaves = nodes_dict[number_of_levels-1];\n",
    "\n",
    "# build a composition array -\n",
    "number_of_nodes = length(tree_leaves);\n",
    "composition_array = Array{Float64,2}(undef, number_of_nodes, ℳ);\n",
    "for i ∈ 1:ℳ\n",
    "    data = tmp_storage_dict[i].data;\n",
    "    for j ∈ 1:number_of_nodes\n",
    "        composition_array[j,i] = data[tree_leaves[j]]\n",
    "    end\n",
    "end\n",
    "\n",
    "# make a pretty table and show the leaves of the tree -\n",
    "\n",
    "# initialize -\n",
    "sep_tree_flow_table_data = Array{Any,2}(undef, ℳ, length(tree_leaves) + 3)\n",
    "for i ∈ 1:ℳ\n",
    "    sep_tree_flow_table_data[i,1] = list_of_species[i];\n",
    "    sep_tree_flow_table_data[i,2] = i;\n",
    "    sep_tree_flow_table_data[i,3] = (number_of_chips)*ṅ₃[i] # put node 0 in table -\n",
    "        \n",
    "    for j ∈ 1:length(tree_leaves)\n",
    "        sep_tree_flow_table_data[i,3+j] = composition_array[j,i]\n",
    "    end\n",
    "end\n",
    "\n",
    "# labels row -\n",
    "label_row = Array{String,1}();\n",
    "push!(label_row,\"Species\");\n",
    "push!(label_row,\"index i\")\n",
    "push!(label_row,\"N0\")\n",
    "for j ∈ 1:length(tree_leaves)\n",
    "    push!(label_row, \"N$(tree_leaves[j])\");\n",
    "end\n",
    "\n",
    "# units row -\n",
    "units_row = Array{String,1}();\n",
    "push!(units_row, \"\");\n",
    "push!(units_row, \"\");\n",
    "for j ∈ 1:length(tree_leaves)+1\n",
    "    push!(units_row, \"μmol/min\");\n",
    "end\n",
    "\n",
    "# header -\n",
    "sep_tree_flow_table_header = (label_row, units_row);\n",
    "\n",
    "# set title -\n",
    "title = \"Table $(current_table_counter+=1): Magical Seperator Unit (MSU) flow table; N0 denotes the feed while N⋆ denotes the leaves of the tree.\"\n",
    "\n",
    "# show -\n",
    "pretty_table(sep_tree_flow_table_data, title=title; header=sep_tree_flow_table_header)"
   ]
  },
  {
   "cell_type": "code",
   "execution_count": null,
   "id": "3a8b3f45-6f00-4201-9418-407810432f4c",
   "metadata": {
    "jupyter": {
     "source_hidden": true
    },
    "tags": []
   },
   "outputs": [],
   "source": [
    "# build mol frac composition table -\n",
    "\n",
    "# construct mol frac array -\n",
    "mol_frac_array = Array{Float64,2}(undef, ℳ, length(tree_leaves)+1);\n",
    "\n",
    "# node 0 -\n",
    "ṅ₃_total = sum(ṅ₃);\n",
    "for i ∈ 1:ℳ\n",
    "    mol_frac_array[i,1] = ṅ₃[i]*(1/ṅ₃_total);    \n",
    "end\n",
    "\n",
    "# get the sums along rows -\n",
    "ṅ_total = sum(composition_array,dims = 2);\n",
    "for node ∈ 1:length(tree_leaves)\n",
    "    for i ∈ 1:ℳ\n",
    "        mol_frac_array[i,node+1] = composition_array[node,i]*(1/ṅ_total[node]);\n",
    "    end\n",
    "end\n",
    "\n",
    "# initialize -\n",
    "sep_tree_mol_frac_table_data = Array{Any,2}(undef, ℳ, length(tree_leaves) + 3)\n",
    "for i ∈ 1:ℳ\n",
    "    sep_tree_mol_frac_table_data[i,1] = list_of_species[i];\n",
    "    sep_tree_mol_frac_table_data[i,2] = i;\n",
    "    sep_tree_mol_frac_table_data[i,3] = round(mol_frac_array[i,1], digits=4) # put node 0 in table -\n",
    "        \n",
    "    for j ∈ 1:length(tree_leaves)\n",
    "        sep_tree_mol_frac_table_data[i, 3+j] = round(mol_frac_array[i,j+1], digits=4)\n",
    "    end\n",
    "end\n",
    "\n",
    "# labels row -\n",
    "label_mft_row = Array{String,1}();\n",
    "push!(label_mft_row,\"Species\");\n",
    "push!(label_mft_row,\"index i\")\n",
    "push!(label_mft_row,\"N0\")\n",
    "for j ∈ 1:length(tree_leaves)\n",
    "    push!(label_mft_row, \"N$(tree_leaves[j])\");\n",
    "end\n",
    "\n",
    "# units row -\n",
    "units_mft_row = Array{String,1}();\n",
    "push!(units_mft_row, \"\");\n",
    "push!(units_mft_row, \"\");\n",
    "for j ∈ 1:length(tree_leaves)+1\n",
    "    push!(units_mft_row, \"mole frac\");\n",
    "end\n",
    "\n",
    "# header -\n",
    "sep_tree_mft_table_header = (label_mft_row, units_mft_row);\n",
    "\n",
    "# set title -\n",
    "title_mft = \"Table $(current_table_counter+=1): Magical Seperator Unit (MSU) composition table.\"\n",
    "\n",
    "# show -\n",
    "pretty_table(sep_tree_mol_frac_table_data, title=title_mft; header=sep_tree_mft_table_header)"
   ]
  },
  {
   "cell_type": "markdown",
   "id": "1c6fe5c9-bbbf-4e7b-865b-f04a967a9997",
   "metadata": {},
   "source": [
    "### Financial analysis\n",
    "\n",
    "* Compute the [Net Present Value](https://varnerlab.github.io/ENGRI-1120-IntroToChemE-Book/chapter-1-dir/money-balances.html#net-present-value-npv) of your design using the cost spreadsheet on canvas.\n",
    "* What price for the mRNA product do we need to set to have a NPV equal to zero?\n",
    "* How could you improve the financial performance of your design?"
   ]
  },
  {
   "cell_type": "markdown",
   "id": "9b5013d4-e85f-4d8c-9da3-b32e8d79c50d",
   "metadata": {},
   "source": [
    "## Summary and conclusions\n",
    "* Fill me in, see rubric."
   ]
  },
  {
   "cell_type": "markdown",
   "id": "0ce74f58-3061-4901-b988-0beb2980a20c",
   "metadata": {},
   "source": [
    "## References and Additional Resources\n",
    "* Put any references are additional citations here"
   ]
  }
 ],
 "metadata": {
  "kernelspec": {
   "display_name": "Julia 1.8.3",
   "language": "julia",
   "name": "julia-1.8"
  },
  "language_info": {
   "file_extension": ".jl",
   "mimetype": "application/julia",
   "name": "julia",
   "version": "1.8.3"
  }
 },
 "nbformat": 4,
 "nbformat_minor": 5
}
